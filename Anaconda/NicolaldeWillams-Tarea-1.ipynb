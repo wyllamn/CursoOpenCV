{
 "cells": [
  {
   "cell_type": "code",
   "execution_count": 9,
   "metadata": {},
   "outputs": [],
   "source": [
    "import numpy as np\n",
    "import cv2 as cv"
   ]
  },
  {
   "cell_type": "code",
   "execution_count": 21,
   "metadata": {},
   "outputs": [],
   "source": [
    "def draw_figures(event, x, y, flags, param):\n",
    "\n",
    "    if(event == cv.EVENT_LBUTTONDBLCLK):\n",
    "\n",
    "        cv.circle(img, (x, y), 25, (255,0,0), -1 )\n",
    "\n",
    "    if(event == cv.EVENT_RBUTTONDBLCLK):\n",
    "        cv.rectangle(img,(x,y), (450,450),(0,255,0), 5)\n",
    "\n",
    "img = np.zeros((512,512,3), np.uint8)  \n",
    "cv.namedWindow('Tarea 1')\n",
    "cv.setMouseCallback('Tarea 1', draw_figures)\n",
    "\n",
    "while(True):\n",
    "    cv.imshow('Tarea 1',img)\n",
    "    if (cv.waitKey(1) & 0xFF ==ord('q')):\n",
    "        break\n",
    "cv.destroyAllWindows()"
   ]
  },
  {
   "cell_type": "code",
   "execution_count": null,
   "metadata": {},
   "outputs": [],
   "source": []
  }
 ],
 "metadata": {
  "kernelspec": {
   "display_name": "Python 3",
   "language": "python",
   "name": "python3"
  },
  "language_info": {
   "codemirror_mode": {
    "name": "ipython",
    "version": 3
   },
   "file_extension": ".py",
   "mimetype": "text/x-python",
   "name": "python",
   "nbconvert_exporter": "python",
   "pygments_lexer": "ipython3",
   "version": "3.8.5"
  }
 },
 "nbformat": 4,
 "nbformat_minor": 4
}
